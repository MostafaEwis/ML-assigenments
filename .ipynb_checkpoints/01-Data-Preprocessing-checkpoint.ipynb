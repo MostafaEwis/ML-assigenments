{
 "cells": [
  {
   "cell_type": "markdown",
   "id": "90627efc",
   "metadata": {},
   "source": [
    "# Library "
   ]
  },
  {
   "cell_type": "code",
   "execution_count": 297,
   "id": "575c20f5",
   "metadata": {},
   "outputs": [],
   "source": [
    "import pandas as pd\n",
    "import numpy as np\n",
    "import matplotlib.pyplot as plt"
   ]
  },
  {
   "cell_type": "markdown",
   "id": "7a50c0ee",
   "metadata": {},
   "source": [
    "# Read data"
   ]
  },
  {
   "cell_type": "markdown",
   "id": "52b1c2e5-a1b4-40fa-b3a1-85883bc13058",
   "metadata": {},
   "source": [
    "## https://www.kaggle.com/competitions/widsdatathon2022/overview"
   ]
  },
  {
   "cell_type": "markdown",
   "id": "9be0dad2-49d0-45e4-bced-5a981b87bf19",
   "metadata": {},
   "source": [
    "# ركزت المسابقة على تحليل كفاءة الطاقة في المباني، حيث طُلب من المشاركين إنشاء نماذج لتوقع استهلاك الطاقة في المباني باستخدام مجموعة بيانات تتضمن متغيرات تصف خصائص المباني، والمتغيرات المناخية، ومتغيرات الطقس للمناطق التي تقع فيها المباني.\n",
    "\n",
    "\n"
   ]
  },
  {
   "cell_type": "code",
   "execution_count": 298,
   "id": "b8975c11",
   "metadata": {},
   "outputs": [],
   "source": [
    "#loading Data\n",
    "df=pd.read_csv('WiDS Dataton.csv')"
   ]
  },
  {
   "cell_type": "code",
   "execution_count": 299,
   "id": "06c69dd4",
   "metadata": {},
   "outputs": [
    {
     "data": {
      "text/html": [
       "<div>\n",
       "<style scoped>\n",
       "    .dataframe tbody tr th:only-of-type {\n",
       "        vertical-align: middle;\n",
       "    }\n",
       "\n",
       "    .dataframe tbody tr th {\n",
       "        vertical-align: top;\n",
       "    }\n",
       "\n",
       "    .dataframe thead th {\n",
       "        text-align: right;\n",
       "    }\n",
       "</style>\n",
       "<table border=\"1\" class=\"dataframe\">\n",
       "  <thead>\n",
       "    <tr style=\"text-align: right;\">\n",
       "      <th></th>\n",
       "      <th>Year_Factor</th>\n",
       "      <th>State_Factor</th>\n",
       "      <th>building_class</th>\n",
       "      <th>facility_type</th>\n",
       "      <th>floor_area</th>\n",
       "      <th>year_built</th>\n",
       "      <th>energy_star_rating</th>\n",
       "      <th>ELEVATION</th>\n",
       "      <th>january_min_temp</th>\n",
       "      <th>january_avg_temp</th>\n",
       "      <th>...</th>\n",
       "      <th>december_min_temp</th>\n",
       "      <th>days_below_10F</th>\n",
       "      <th>days_below_0F</th>\n",
       "      <th>days_above_80F</th>\n",
       "      <th>direction_max_wind_speed</th>\n",
       "      <th>direction_peak_wind_speed</th>\n",
       "      <th>max_wind_speed</th>\n",
       "      <th>days_with_fog</th>\n",
       "      <th>site_eui</th>\n",
       "      <th>id</th>\n",
       "    </tr>\n",
       "  </thead>\n",
       "  <tbody>\n",
       "    <tr>\n",
       "      <th>0</th>\n",
       "      <td>1</td>\n",
       "      <td>State_1</td>\n",
       "      <td>Commercial</td>\n",
       "      <td>Grocery_store_or_food_market</td>\n",
       "      <td>61242.0</td>\n",
       "      <td>1942.0</td>\n",
       "      <td>11.0</td>\n",
       "      <td>2.4</td>\n",
       "      <td>36</td>\n",
       "      <td>50.5</td>\n",
       "      <td>...</td>\n",
       "      <td>36</td>\n",
       "      <td>0</td>\n",
       "      <td>0</td>\n",
       "      <td>14</td>\n",
       "      <td>1.0</td>\n",
       "      <td>1.0</td>\n",
       "      <td>1.0</td>\n",
       "      <td>NaN</td>\n",
       "      <td>248.682615</td>\n",
       "      <td>0</td>\n",
       "    </tr>\n",
       "    <tr>\n",
       "      <th>1</th>\n",
       "      <td>1</td>\n",
       "      <td>State_1</td>\n",
       "      <td>Commercial</td>\n",
       "      <td>Warehouse_Distribution_or_Shipping_center</td>\n",
       "      <td>274000.0</td>\n",
       "      <td>1955.0</td>\n",
       "      <td>45.0</td>\n",
       "      <td>1.8</td>\n",
       "      <td>36</td>\n",
       "      <td>50.5</td>\n",
       "      <td>...</td>\n",
       "      <td>36</td>\n",
       "      <td>0</td>\n",
       "      <td>0</td>\n",
       "      <td>14</td>\n",
       "      <td>1.0</td>\n",
       "      <td>NaN</td>\n",
       "      <td>1.0</td>\n",
       "      <td>12.0</td>\n",
       "      <td>26.500150</td>\n",
       "      <td>1</td>\n",
       "    </tr>\n",
       "    <tr>\n",
       "      <th>2</th>\n",
       "      <td>1</td>\n",
       "      <td>State_1</td>\n",
       "      <td>Commercial</td>\n",
       "      <td>Retail_Enclosed_mall</td>\n",
       "      <td>280025.0</td>\n",
       "      <td>1951.0</td>\n",
       "      <td>97.0</td>\n",
       "      <td>1.8</td>\n",
       "      <td>36</td>\n",
       "      <td>50.5</td>\n",
       "      <td>...</td>\n",
       "      <td>36</td>\n",
       "      <td>0</td>\n",
       "      <td>0</td>\n",
       "      <td>14</td>\n",
       "      <td>1.0</td>\n",
       "      <td>NaN</td>\n",
       "      <td>1.0</td>\n",
       "      <td>12.0</td>\n",
       "      <td>24.693619</td>\n",
       "      <td>2</td>\n",
       "    </tr>\n",
       "    <tr>\n",
       "      <th>3</th>\n",
       "      <td>1</td>\n",
       "      <td>State_1</td>\n",
       "      <td>Commercial</td>\n",
       "      <td>Education_Other_classroom</td>\n",
       "      <td>55325.0</td>\n",
       "      <td>1980.0</td>\n",
       "      <td>46.0</td>\n",
       "      <td>1.8</td>\n",
       "      <td>36</td>\n",
       "      <td>50.5</td>\n",
       "      <td>...</td>\n",
       "      <td>36</td>\n",
       "      <td>0</td>\n",
       "      <td>0</td>\n",
       "      <td>14</td>\n",
       "      <td>1.0</td>\n",
       "      <td>NaN</td>\n",
       "      <td>1.0</td>\n",
       "      <td>12.0</td>\n",
       "      <td>48.406926</td>\n",
       "      <td>3</td>\n",
       "    </tr>\n",
       "    <tr>\n",
       "      <th>4</th>\n",
       "      <td>1</td>\n",
       "      <td>State_1</td>\n",
       "      <td>Commercial</td>\n",
       "      <td>Warehouse_Nonrefrigerated</td>\n",
       "      <td>66000.0</td>\n",
       "      <td>1985.0</td>\n",
       "      <td>100.0</td>\n",
       "      <td>2.4</td>\n",
       "      <td>36</td>\n",
       "      <td>50.5</td>\n",
       "      <td>...</td>\n",
       "      <td>36</td>\n",
       "      <td>0</td>\n",
       "      <td>0</td>\n",
       "      <td>14</td>\n",
       "      <td>1.0</td>\n",
       "      <td>1.0</td>\n",
       "      <td>1.0</td>\n",
       "      <td>NaN</td>\n",
       "      <td>3.899395</td>\n",
       "      <td>4</td>\n",
       "    </tr>\n",
       "  </tbody>\n",
       "</table>\n",
       "<p>5 rows × 41 columns</p>\n",
       "</div>"
      ],
      "text/plain": [
       "   Year_Factor State_Factor building_class  \\\n",
       "0            1      State_1     Commercial   \n",
       "1            1      State_1     Commercial   \n",
       "2            1      State_1     Commercial   \n",
       "3            1      State_1     Commercial   \n",
       "4            1      State_1     Commercial   \n",
       "\n",
       "                               facility_type  floor_area  year_built  \\\n",
       "0               Grocery_store_or_food_market     61242.0      1942.0   \n",
       "1  Warehouse_Distribution_or_Shipping_center    274000.0      1955.0   \n",
       "2                       Retail_Enclosed_mall    280025.0      1951.0   \n",
       "3                  Education_Other_classroom     55325.0      1980.0   \n",
       "4                  Warehouse_Nonrefrigerated     66000.0      1985.0   \n",
       "\n",
       "   energy_star_rating  ELEVATION  january_min_temp  january_avg_temp  ...  \\\n",
       "0                11.0        2.4                36              50.5  ...   \n",
       "1                45.0        1.8                36              50.5  ...   \n",
       "2                97.0        1.8                36              50.5  ...   \n",
       "3                46.0        1.8                36              50.5  ...   \n",
       "4               100.0        2.4                36              50.5  ...   \n",
       "\n",
       "   december_min_temp  days_below_10F  days_below_0F  days_above_80F  \\\n",
       "0                 36               0              0              14   \n",
       "1                 36               0              0              14   \n",
       "2                 36               0              0              14   \n",
       "3                 36               0              0              14   \n",
       "4                 36               0              0              14   \n",
       "\n",
       "   direction_max_wind_speed  direction_peak_wind_speed  max_wind_speed  \\\n",
       "0                       1.0                        1.0             1.0   \n",
       "1                       1.0                        NaN             1.0   \n",
       "2                       1.0                        NaN             1.0   \n",
       "3                       1.0                        NaN             1.0   \n",
       "4                       1.0                        1.0             1.0   \n",
       "\n",
       "   days_with_fog    site_eui  id  \n",
       "0            NaN  248.682615   0  \n",
       "1           12.0   26.500150   1  \n",
       "2           12.0   24.693619   2  \n",
       "3           12.0   48.406926   3  \n",
       "4            NaN    3.899395   4  \n",
       "\n",
       "[5 rows x 41 columns]"
      ]
     },
     "execution_count": 299,
     "metadata": {},
     "output_type": "execute_result"
    }
   ],
   "source": [
    "df.head()"
   ]
  },
  {
   "cell_type": "code",
   "execution_count": 300,
   "id": "78bf0dff",
   "metadata": {},
   "outputs": [
    {
     "name": "stdout",
     "output_type": "stream",
     "text": [
      "<class 'pandas.core.frame.DataFrame'>\n",
      "RangeIndex: 31107 entries, 0 to 31106\n",
      "Data columns (total 41 columns):\n",
      " #   Column                     Non-Null Count  Dtype  \n",
      "---  ------                     --------------  -----  \n",
      " 0   Year_Factor                31107 non-null  int64  \n",
      " 1   State_Factor               31107 non-null  object \n",
      " 2   building_class             31107 non-null  object \n",
      " 3   facility_type              31107 non-null  object \n",
      " 4   floor_area                 31107 non-null  float64\n",
      " 5   year_built                 29614 non-null  float64\n",
      " 6   energy_star_rating         14502 non-null  float64\n",
      " 7   ELEVATION                  31107 non-null  float64\n",
      " 8   january_min_temp           31107 non-null  int64  \n",
      " 9   january_avg_temp           31107 non-null  float64\n",
      " 10  january_max_temp           31107 non-null  int64  \n",
      " 11  february_min_temp          31107 non-null  int64  \n",
      " 12  february_avg_temp          31107 non-null  float64\n",
      " 13  february_max_temp          31107 non-null  int64  \n",
      " 14  march_min_temp             31107 non-null  int64  \n",
      " 15  march_avg_temp             31107 non-null  float64\n",
      " 16  march_max_temp             31107 non-null  int64  \n",
      " 17  april_min_temp             31107 non-null  int64  \n",
      " 18  april_avg_temp             31107 non-null  float64\n",
      " 19  april_max_temp             31107 non-null  int64  \n",
      " 20  may_min_temp               31107 non-null  int64  \n",
      " 21  may_avg_temp               31107 non-null  float64\n",
      " 22  may_max_temp               31107 non-null  int64  \n",
      " 23  june_min_temp              31107 non-null  int64  \n",
      " 24  june_avg_temp              31107 non-null  float64\n",
      " 25  june_max_temp              31107 non-null  int64  \n",
      " 26  july_min_temp              31107 non-null  int64  \n",
      " 27  july_avg_temp              31107 non-null  float64\n",
      " 28  july_max_temp              31107 non-null  int64  \n",
      " 29  august_min_temp            31107 non-null  int64  \n",
      " 30  november_max_temp          31107 non-null  int64  \n",
      " 31  december_min_temp          31107 non-null  int64  \n",
      " 32  days_below_10F             31107 non-null  int64  \n",
      " 33  days_below_0F              31107 non-null  int64  \n",
      " 34  days_above_80F             31107 non-null  int64  \n",
      " 35  direction_max_wind_speed   11192 non-null  float64\n",
      " 36  direction_peak_wind_speed  11156 non-null  float64\n",
      " 37  max_wind_speed             11192 non-null  float64\n",
      " 38  days_with_fog              12621 non-null  float64\n",
      " 39  site_eui                   31107 non-null  float64\n",
      " 40  id                         31107 non-null  int64  \n",
      "dtypes: float64(16), int64(22), object(3)\n",
      "memory usage: 9.7+ MB\n"
     ]
    }
   ],
   "source": [
    "df.info()"
   ]
  },
  {
   "cell_type": "code",
   "execution_count": 301,
   "id": "e68fddb2",
   "metadata": {},
   "outputs": [
    {
     "data": {
      "text/plain": [
       "Index(['Year_Factor', 'State_Factor', 'building_class', 'facility_type',\n",
       "       'floor_area', 'year_built', 'energy_star_rating', 'ELEVATION',\n",
       "       'january_min_temp', 'january_avg_temp', 'january_max_temp',\n",
       "       'february_min_temp', 'february_avg_temp', 'february_max_temp',\n",
       "       'march_min_temp', 'march_avg_temp', 'march_max_temp', 'april_min_temp',\n",
       "       'april_avg_temp', 'april_max_temp', 'may_min_temp', 'may_avg_temp',\n",
       "       'may_max_temp', 'june_min_temp', 'june_avg_temp', 'june_max_temp',\n",
       "       'july_min_temp', 'july_avg_temp', 'july_max_temp', 'august_min_temp',\n",
       "       'november_max_temp', 'december_min_temp', 'days_below_10F',\n",
       "       'days_below_0F', 'days_above_80F', 'direction_max_wind_speed',\n",
       "       'direction_peak_wind_speed', 'max_wind_speed', 'days_with_fog',\n",
       "       'site_eui', 'id'],\n",
       "      dtype='object')"
      ]
     },
     "execution_count": 301,
     "metadata": {},
     "output_type": "execute_result"
    }
   ],
   "source": [
    "df.columns"
   ]
  },
  {
   "cell_type": "code",
   "execution_count": 302,
   "id": "fbe6d68b",
   "metadata": {},
   "outputs": [
    {
     "data": {
      "text/plain": [
       "(31107, 41)"
      ]
     },
     "execution_count": 302,
     "metadata": {},
     "output_type": "execute_result"
    }
   ],
   "source": [
    "df.shape"
   ]
  },
  {
   "cell_type": "markdown",
   "id": "204d2cc3",
   "metadata": {},
   "source": [
    "# Remove column"
   ]
  },
  {
   "cell_type": "code",
   "execution_count": 303,
   "id": "5813a649",
   "metadata": {},
   "outputs": [],
   "source": [
    "df.drop(['id'],axis=1,inplace=True)"
   ]
  },
  {
   "cell_type": "markdown",
   "id": "6a292e7e",
   "metadata": {},
   "source": [
    "# Remove Duplicated"
   ]
  },
  {
   "cell_type": "code",
   "execution_count": 304,
   "id": "4ab3cdc3",
   "metadata": {},
   "outputs": [
    {
     "name": "stdout",
     "output_type": "stream",
     "text": [
      "Number of duplicate rows :  26\n"
     ]
    }
   ],
   "source": [
    "# Dropping the duplicate rows\n",
    "print(\"Number of duplicate rows : \",df.duplicated().sum())\n",
    "\n",
    "\n",
    "df.drop_duplicates(inplace=True)\n",
    "\n",
    "df.reset_index(drop=True,inplace=True)"
   ]
  },
  {
   "cell_type": "markdown",
   "id": "6c4e2fa6",
   "metadata": {},
   "source": [
    "# Data Cleaning\n",
    "missing Value"
   ]
  },
  {
   "cell_type": "code",
   "execution_count": 305,
   "id": "0d882777",
   "metadata": {},
   "outputs": [
    {
     "data": {
      "text/plain": [
       "direction_peak_wind_speed    19943\n",
       "max_wind_speed               19908\n",
       "direction_max_wind_speed     19908\n",
       "days_with_fog                18478\n",
       "energy_star_rating           16582\n",
       "year_built                    1473\n",
       "Year_Factor                      0\n",
       "july_max_temp                    0\n",
       "june_min_temp                    0\n",
       "june_avg_temp                    0\n",
       "dtype: int64"
      ]
     },
     "execution_count": 305,
     "metadata": {},
     "output_type": "execute_result"
    }
   ],
   "source": [
    "df.isnull().sum().sort_values(ascending = False).head(10)"
   ]
  },
  {
   "cell_type": "code",
   "execution_count": null,
   "id": "1633eb43-4472-4200-a6d0-dbfd024a780c",
   "metadata": {},
   "outputs": [],
   "source": []
  },
  {
   "cell_type": "code",
   "execution_count": 306,
   "id": "9fd3bb6c",
   "metadata": {},
   "outputs": [
    {
     "data": {
      "image/png": "[encoded data removed]",
      "text/plain": [
       "<Figure size 2000x1000 with 1 Axes>"
      ]
     },
     "metadata": {},
     "output_type": "display_data"
    }
   ],
   "source": [
    "plt.figure(figsize=(20,10))\n",
    "df.isnull().sum().sort_values(ascending = False).head(6).plot(kind='bar')\n",
    "plt.ylim(0,df.shape[0])\n",
    "plt.show()"
   ]
  },
  {
   "cell_type": "code",
   "execution_count": 307,
   "id": "7ad568af",
   "metadata": {},
   "outputs": [],
   "source": [
    "df.drop(['days_with_fog','direction_peak_wind_speed','energy_star_rating',\n",
    "           'direction_max_wind_speed','max_wind_speed'],axis=1,inplace=True)"
   ]
  },
  {
   "cell_type": "markdown",
   "id": "4e46ec72",
   "metadata": {},
   "source": [
    "# Replace Nan value"
   ]
  },
  {
   "cell_type": "code",
   "execution_count": 308,
   "id": "5ef2601c",
   "metadata": {},
   "outputs": [],
   "source": [
    "from sklearn.impute import SimpleImputer\n",
    "\n",
    "imputer=SimpleImputer(missing_values=np.nan,strategy='mean') #'median', 'mean', 'constant', 'most_frequent'\n",
    "\n",
    "#imputer.fit(df[['year_built']])\n",
    "#df['year_built']=imputer.transform(df[['year_built']])\n",
    "\n",
    "df['year_built']=imputer.fit_transform(df[['year_built']])\n",
    "\n",
    "#imputer.fit(np.array(df['year_built']).reshape(-1, 1))\n",
    "#df['year_built']=imputer.transform(np.array(df['year_built']).reshape(-1, 1))\n",
    "#df['year_built']=imputer.fit_transform(np.array(df['year_built']).reshape(-1, 1))\n",
    "\n",
    "\n",
    "#df.fillna(int(df['year_built'].mean()),inplace=True)"
   ]
  },
  {
   "cell_type": "code",
   "execution_count": 309,
   "id": "6dab2cc8",
   "metadata": {},
   "outputs": [
    {
     "data": {
      "text/plain": [
       "0"
      ]
     },
     "execution_count": 309,
     "metadata": {},
     "output_type": "execute_result"
    }
   ],
   "source": [
    "df['year_built'].isnull().sum()"
   ]
  },
  {
   "cell_type": "code",
   "execution_count": 310,
   "id": "d16022bb",
   "metadata": {},
   "outputs": [
    {
     "name": "stdout",
     "output_type": "stream",
     "text": [
      "<class 'pandas.core.frame.DataFrame'>\n",
      "RangeIndex: 31081 entries, 0 to 31080\n",
      "Data columns (total 35 columns):\n",
      " #   Column             Non-Null Count  Dtype  \n",
      "---  ------             --------------  -----  \n",
      " 0   Year_Factor        31081 non-null  int64  \n",
      " 1   State_Factor       31081 non-null  object \n",
      " 2   building_class     31081 non-null  object \n",
      " 3   facility_type      31081 non-null  object \n",
      " 4   floor_area         31081 non-null  float64\n",
      " 5   year_built         31081 non-null  float64\n",
      " 6   ELEVATION          31081 non-null  float64\n",
      " 7   january_min_temp   31081 non-null  int64  \n",
      " 8   january_avg_temp   31081 non-null  float64\n",
      " 9   january_max_temp   31081 non-null  int64  \n",
      " 10  february_min_temp  31081 non-null  int64  \n",
      " 11  february_avg_temp  31081 non-null  float64\n",
      " 12  february_max_temp  31081 non-null  int64  \n",
      " 13  march_min_temp     31081 non-null  int64  \n",
      " 14  march_avg_temp     31081 non-null  float64\n",
      " 15  march_max_temp     31081 non-null  int64  \n",
      " 16  april_min_temp     31081 non-null  int64  \n",
      " 17  april_avg_temp     31081 non-null  float64\n",
      " 18  april_max_temp     31081 non-null  int64  \n",
      " 19  may_min_temp       31081 non-null  int64  \n",
      " 20  may_avg_temp       31081 non-null  float64\n",
      " 21  may_max_temp       31081 non-null  int64  \n",
      " 22  june_min_temp      31081 non-null  int64  \n",
      " 23  june_avg_temp      31081 non-null  float64\n",
      " 24  june_max_temp      31081 non-null  int64  \n",
      " 25  july_min_temp      31081 non-null  int64  \n",
      " 26  july_avg_temp      31081 non-null  float64\n",
      " 27  july_max_temp      31081 non-null  int64  \n",
      " 28  august_min_temp    31081 non-null  int64  \n",
      " 29  november_max_temp  31081 non-null  int64  \n",
      " 30  december_min_temp  31081 non-null  int64  \n",
      " 31  days_below_10F     31081 non-null  int64  \n",
      " 32  days_below_0F      31081 non-null  int64  \n",
      " 33  days_above_80F     31081 non-null  int64  \n",
      " 34  site_eui           31081 non-null  float64\n",
      "dtypes: float64(11), int64(21), object(3)\n",
      "memory usage: 8.3+ MB\n"
     ]
    }
   ],
   "source": [
    "df.info()"
   ]
  },
  {
   "cell_type": "code",
   "execution_count": 311,
   "id": "ab038697",
   "metadata": {},
   "outputs": [
    {
     "data": {
      "text/plain": [
       "0                 Grocery_store_or_food_market\n",
       "1    Warehouse_Distribution_or_Shipping_center\n",
       "2                         Retail_Enclosed_mall\n",
       "3                    Education_Other_classroom\n",
       "4                    Warehouse_Nonrefrigerated\n",
       "Name: facility_type, dtype: object"
      ]
     },
     "execution_count": 311,
     "metadata": {},
     "output_type": "execute_result"
    }
   ],
   "source": [
    "df['facility_type'].head()"
   ]
  },
  {
   "cell_type": "markdown",
   "id": "4aa77454",
   "metadata": {},
   "source": [
    "# Data Encoding"
   ]
  },
  {
   "cell_type": "code",
   "execution_count": 312,
   "id": "319e7931",
   "metadata": {},
   "outputs": [
    {
     "name": "stdout",
     "output_type": "stream",
     "text": [
      "number of column State_Factor is :  4\n",
      "number of column State_Factor is :  ['State_1' 'State_2' 'State_4' 'State_6']\n",
      "number of column facility_type is :  58\n",
      "number of column facility_type is :  ['Grocery_store_or_food_market'\n",
      " 'Warehouse_Distribution_or_Shipping_center' 'Retail_Enclosed_mall'\n",
      " 'Education_Other_classroom' 'Warehouse_Nonrefrigerated'\n",
      " 'Warehouse_Selfstorage' 'Office_Uncategorized' 'Data_Center'\n",
      " 'Commercial_Other' 'Mixed_Use_Predominantly_Commercial'\n",
      " 'Office_Medical_non_diagnostic' 'Education_College_or_university'\n",
      " 'Industrial' 'Laboratory' 'Public_Assembly_Entertainment_culture'\n",
      " 'Retail_Vehicle_dealership_showroom' 'Retail_Uncategorized'\n",
      " 'Lodging_Hotel' 'Retail_Strip_shopping_mall' 'Education_Uncategorized'\n",
      " 'Religious_worship' 'Commercial_Unknown'\n",
      " 'Mixed_Use_Commercial_and_Residential' 'Office_Bank_or_other_financial'\n",
      " 'Public_Assembly_Social_meeting' 'Service_Uncategorized'\n",
      " 'Warehouse_Refrigerated' 'Food_Service_Uncategorized'\n",
      " 'Health_Care_Uncategorized' 'Food_Service_Other'\n",
      " 'Public_Assembly_Movie_Theater' 'Food_Service_Restaurant_or_cafeteria'\n",
      " 'Service_Vehicle_service_repair_shop' 'Health_Care_Inpatient'\n",
      " 'Food_Sales' 'Public_Assembly_Uncategorized'\n",
      " 'Public_Assembly_Drama_theater' 'Parking_Garage'\n",
      " 'Public_Assembly_Recreation' 'Service_Drycleaning_or_Laundry'\n",
      " 'Nursing_Home' 'Health_Care_Outpatient_Clinic'\n",
      " 'Education_Preschool_or_daycare' '5plus_Unit_Building'\n",
      " 'Multifamily_Uncategorized' 'Lodging_Dormitory_or_fraternity_sorority'\n",
      " 'Public_Assembly_Library' 'Public_Safety_Uncategorized'\n",
      " 'Public_Safety_Fire_or_police_station' 'Office_Mixed_use'\n",
      " 'Public_Assembly_Other' 'Public_Safety_Penitentiary'\n",
      " 'Health_Care_Outpatient_Uncategorized' 'Lodging_Other'\n",
      " 'Mixed_Use_Predominantly_Residential' 'Public_Safety_Courthouse'\n",
      " 'Public_Assembly_Stadium' 'Lodging_Uncategorized']\n",
      "number of column building_class is :  2\n",
      "number of column building_class is :  ['Commercial' 'Residential']\n"
     ]
    }
   ],
   "source": [
    "for col in ['State_Factor','facility_type','building_class']:\n",
    "    print(f'number of column {col} is : ',df[col].nunique())\n",
    "    print(f'number of column {col} is : ',df[col].unique())"
   ]
  },
  {
   "cell_type": "markdown",
   "id": "65af6c48",
   "metadata": {},
   "source": [
    "## Label encoder"
   ]
  },
  {
   "cell_type": "code",
   "execution_count": 313,
   "id": "fe2a3db8",
   "metadata": {},
   "outputs": [],
   "source": [
    "from sklearn.preprocessing import LabelEncoder, OneHotEncoder \n",
    "from sklearn.compose import ColumnTransformer\n",
    "lb=LabelEncoder()\n",
    "\n",
    "lb.fit(df['State_Factor'])\n",
    "df['State_Factor'] = lb.transform(df['State_Factor'])\n",
    "\n",
    "\n",
    "df['State_Factor'] = lb.fit_transform(df['State_Factor'])\n",
    "df['facility_type'] = lb.fit_transform(df['facility_type'])\n",
    "\n",
    "#for col in ['State_Factor','facility_type']:\n",
    "    #df[col] = lb.fit_transform(df[col])"
   ]
  },
  {
   "cell_type": "code",
   "execution_count": 314,
   "id": "a205819b-a484-4abd-81d4-bff3fd36fcde",
   "metadata": {},
   "outputs": [
    {
     "data": {
      "text/plain": [
       "0        12\n",
       "1        54\n",
       "2        47\n",
       "3         5\n",
       "4        55\n",
       "         ..\n",
       "31076    26\n",
       "31077    26\n",
       "31078    26\n",
       "31079    26\n",
       "31080    26\n",
       "Name: facility_type, Length: 31081, dtype: int32"
      ]
     },
     "execution_count": 314,
     "metadata": {},
     "output_type": "execute_result"
    }
   ],
   "source": [
    "df['facility_type']"
   ]
  },
  {
   "cell_type": "code",
   "execution_count": 315,
   "id": "659a0773-9091-424d-a835-32bcd8747768",
   "metadata": {},
   "outputs": [
    {
     "data": {
      "text/plain": [
       "array(['5plus_Unit_Building', '5plus_Unit_Building',\n",
       "       '5plus_Unit_Building', ..., 'Data_Center', 'Data_Center',\n",
       "       'Data_Center'], dtype=object)"
      ]
     },
     "execution_count": 315,
     "metadata": {},
     "output_type": "execute_result"
    }
   ],
   "source": [
    "lb.inverse_transform(df['State_Factor'])"
   ]
  },
  {
   "cell_type": "code",
   "execution_count": 316,
   "id": "bf093023-e3ac-43c1-9381-f78c66ca02e4",
   "metadata": {},
   "outputs": [
    {
     "name": "stdout",
     "output_type": "stream",
     "text": [
      "Feature names before encoding: ['5plus_Unit_Building' 'Commercial_Other' 'Commercial_Unknown'\n",
      " 'Data_Center' 'Education_College_or_university'\n",
      " 'Education_Other_classroom' 'Education_Preschool_or_daycare'\n",
      " 'Education_Uncategorized' 'Food_Sales' 'Food_Service_Other'\n",
      " 'Food_Service_Restaurant_or_cafeteria' 'Food_Service_Uncategorized'\n",
      " 'Grocery_store_or_food_market' 'Health_Care_Inpatient'\n",
      " 'Health_Care_Outpatient_Clinic' 'Health_Care_Outpatient_Uncategorized'\n",
      " 'Health_Care_Uncategorized' 'Industrial' 'Laboratory'\n",
      " 'Lodging_Dormitory_or_fraternity_sorority' 'Lodging_Hotel'\n",
      " 'Lodging_Other' 'Lodging_Uncategorized'\n",
      " 'Mixed_Use_Commercial_and_Residential'\n",
      " 'Mixed_Use_Predominantly_Commercial'\n",
      " 'Mixed_Use_Predominantly_Residential' 'Multifamily_Uncategorized'\n",
      " 'Nursing_Home' 'Office_Bank_or_other_financial'\n",
      " 'Office_Medical_non_diagnostic' 'Office_Mixed_use' 'Office_Uncategorized'\n",
      " 'Parking_Garage' 'Public_Assembly_Drama_theater'\n",
      " 'Public_Assembly_Entertainment_culture' 'Public_Assembly_Library'\n",
      " 'Public_Assembly_Movie_Theater' 'Public_Assembly_Other'\n",
      " 'Public_Assembly_Recreation' 'Public_Assembly_Social_meeting'\n",
      " 'Public_Assembly_Stadium' 'Public_Assembly_Uncategorized'\n",
      " 'Public_Safety_Courthouse' 'Public_Safety_Fire_or_police_station'\n",
      " 'Public_Safety_Penitentiary' 'Public_Safety_Uncategorized'\n",
      " 'Religious_worship' 'Retail_Enclosed_mall' 'Retail_Strip_shopping_mall'\n",
      " 'Retail_Uncategorized' 'Retail_Vehicle_dealership_showroom'\n",
      " 'Service_Drycleaning_or_Laundry' 'Service_Uncategorized'\n",
      " 'Service_Vehicle_service_repair_shop'\n",
      " 'Warehouse_Distribution_or_Shipping_center' 'Warehouse_Nonrefrigerated'\n",
      " 'Warehouse_Refrigerated' 'Warehouse_Selfstorage']\n"
     ]
    }
   ],
   "source": [
    "# Get the feature names before encoding\n",
    "feature_names = lb.classes_\n",
    "print(\"Feature names before encoding:\", feature_names)"
   ]
  },
  {
   "cell_type": "code",
   "execution_count": 317,
   "id": "8b2436c8",
   "metadata": {},
   "outputs": [
    {
     "data": {
      "text/plain": [
       "array([0, 1, 2, 3], dtype=int64)"
      ]
     },
     "execution_count": 317,
     "metadata": {},
     "output_type": "execute_result"
    }
   ],
   "source": [
    "df['State_Factor'].unique()"
   ]
  },
  {
   "cell_type": "markdown",
   "id": "95397287",
   "metadata": {},
   "source": [
    "## OneHotEconder"
   ]
  },
  {
   "cell_type": "code",
   "execution_count": 318,
   "id": "69fbe0e4",
   "metadata": {},
   "outputs": [
    {
     "data": {
      "text/plain": [
       "(31081, 2)"
      ]
     },
     "execution_count": 318,
     "metadata": {},
     "output_type": "execute_result"
    }
   ],
   "source": [
    "onehotencoder=OneHotEncoder()\n",
    "X=onehotencoder.fit_transform(df[['building_class']]).toarray()\n",
    "#X=onehotencoder.fit_transform(np.array(df['building_class']).reshape(-1,1)).toarray()\n",
    "\n",
    "X.shape"
   ]
  },
  {
   "cell_type": "code",
   "execution_count": 319,
   "id": "ea34bb5a-9f54-472f-85f4-fc70dcd230ac",
   "metadata": {},
   "outputs": [
    {
     "data": {
      "text/plain": [
       "array(['Commercial', 'Residential'], dtype=object)"
      ]
     },
     "execution_count": 319,
     "metadata": {},
     "output_type": "execute_result"
    }
   ],
   "source": [
    "onehotencoder.categories_[0]"
   ]
  },
  {
   "cell_type": "code",
   "execution_count": 320,
   "id": "1073ade5-d331-4ed0-8fc4-0c4a63871c11",
   "metadata": {},
   "outputs": [],
   "source": [
    "for index , col in enumerate(onehotencoder.categories_[0]) :\n",
    "    df[col]=X[:,index]"
   ]
  },
  {
   "cell_type": "code",
   "execution_count": 321,
   "id": "c056ff9e-454c-4afe-b3a3-68668f02b92d",
   "metadata": {},
   "outputs": [],
   "source": [
    "_ = df.drop(['building_class'],axis =1)"
   ]
  },
  {
   "cell_type": "code",
   "execution_count": 322,
   "id": "887c040c-0ef9-429a-8bdb-b3735985beb3",
   "metadata": {},
   "outputs": [
    {
     "data": {
      "text/html": [
       "<div>\n",
       "<style scoped>\n",
       "    .dataframe tbody tr th:only-of-type {\n",
       "        vertical-align: middle;\n",
       "    }\n",
       "\n",
       "    .dataframe tbody tr th {\n",
       "        vertical-align: top;\n",
       "    }\n",
       "\n",
       "    .dataframe thead th {\n",
       "        text-align: right;\n",
       "    }\n",
       "</style>\n",
       "<table border=\"1\" class=\"dataframe\">\n",
       "  <thead>\n",
       "    <tr style=\"text-align: right;\">\n",
       "      <th></th>\n",
       "      <th>Year_Factor</th>\n",
       "      <th>State_Factor</th>\n",
       "      <th>building_class</th>\n",
       "      <th>facility_type</th>\n",
       "      <th>floor_area</th>\n",
       "      <th>year_built</th>\n",
       "      <th>ELEVATION</th>\n",
       "      <th>january_min_temp</th>\n",
       "      <th>january_avg_temp</th>\n",
       "      <th>january_max_temp</th>\n",
       "      <th>...</th>\n",
       "      <th>july_max_temp</th>\n",
       "      <th>august_min_temp</th>\n",
       "      <th>november_max_temp</th>\n",
       "      <th>december_min_temp</th>\n",
       "      <th>days_below_10F</th>\n",
       "      <th>days_below_0F</th>\n",
       "      <th>days_above_80F</th>\n",
       "      <th>site_eui</th>\n",
       "      <th>Commercial</th>\n",
       "      <th>Residential</th>\n",
       "    </tr>\n",
       "  </thead>\n",
       "  <tbody>\n",
       "    <tr>\n",
       "      <th>0</th>\n",
       "      <td>1</td>\n",
       "      <td>0</td>\n",
       "      <td>Commercial</td>\n",
       "      <td>12</td>\n",
       "      <td>61242.0</td>\n",
       "      <td>1942.0</td>\n",
       "      <td>2.4</td>\n",
       "      <td>36</td>\n",
       "      <td>50.5</td>\n",
       "      <td>68</td>\n",
       "      <td>...</td>\n",
       "      <td>84</td>\n",
       "      <td>52</td>\n",
       "      <td>72</td>\n",
       "      <td>36</td>\n",
       "      <td>0</td>\n",
       "      <td>0</td>\n",
       "      <td>14</td>\n",
       "      <td>248.682615</td>\n",
       "      <td>1.0</td>\n",
       "      <td>0.0</td>\n",
       "    </tr>\n",
       "    <tr>\n",
       "      <th>1</th>\n",
       "      <td>1</td>\n",
       "      <td>0</td>\n",
       "      <td>Commercial</td>\n",
       "      <td>54</td>\n",
       "      <td>274000.0</td>\n",
       "      <td>1955.0</td>\n",
       "      <td>1.8</td>\n",
       "      <td>36</td>\n",
       "      <td>50.5</td>\n",
       "      <td>68</td>\n",
       "      <td>...</td>\n",
       "      <td>84</td>\n",
       "      <td>52</td>\n",
       "      <td>72</td>\n",
       "      <td>36</td>\n",
       "      <td>0</td>\n",
       "      <td>0</td>\n",
       "      <td>14</td>\n",
       "      <td>26.500150</td>\n",
       "      <td>1.0</td>\n",
       "      <td>0.0</td>\n",
       "    </tr>\n",
       "    <tr>\n",
       "      <th>2</th>\n",
       "      <td>1</td>\n",
       "      <td>0</td>\n",
       "      <td>Commercial</td>\n",
       "      <td>47</td>\n",
       "      <td>280025.0</td>\n",
       "      <td>1951.0</td>\n",
       "      <td>1.8</td>\n",
       "      <td>36</td>\n",
       "      <td>50.5</td>\n",
       "      <td>68</td>\n",
       "      <td>...</td>\n",
       "      <td>84</td>\n",
       "      <td>52</td>\n",
       "      <td>72</td>\n",
       "      <td>36</td>\n",
       "      <td>0</td>\n",
       "      <td>0</td>\n",
       "      <td>14</td>\n",
       "      <td>24.693619</td>\n",
       "      <td>1.0</td>\n",
       "      <td>0.0</td>\n",
       "    </tr>\n",
       "    <tr>\n",
       "      <th>3</th>\n",
       "      <td>1</td>\n",
       "      <td>0</td>\n",
       "      <td>Commercial</td>\n",
       "      <td>5</td>\n",
       "      <td>55325.0</td>\n",
       "      <td>1980.0</td>\n",
       "      <td>1.8</td>\n",
       "      <td>36</td>\n",
       "      <td>50.5</td>\n",
       "      <td>68</td>\n",
       "      <td>...</td>\n",
       "      <td>84</td>\n",
       "      <td>52</td>\n",
       "      <td>72</td>\n",
       "      <td>36</td>\n",
       "      <td>0</td>\n",
       "      <td>0</td>\n",
       "      <td>14</td>\n",
       "      <td>48.406926</td>\n",
       "      <td>1.0</td>\n",
       "      <td>0.0</td>\n",
       "    </tr>\n",
       "    <tr>\n",
       "      <th>4</th>\n",
       "      <td>1</td>\n",
       "      <td>0</td>\n",
       "      <td>Commercial</td>\n",
       "      <td>55</td>\n",
       "      <td>66000.0</td>\n",
       "      <td>1985.0</td>\n",
       "      <td>2.4</td>\n",
       "      <td>36</td>\n",
       "      <td>50.5</td>\n",
       "      <td>68</td>\n",
       "      <td>...</td>\n",
       "      <td>84</td>\n",
       "      <td>52</td>\n",
       "      <td>72</td>\n",
       "      <td>36</td>\n",
       "      <td>0</td>\n",
       "      <td>0</td>\n",
       "      <td>14</td>\n",
       "      <td>3.899395</td>\n",
       "      <td>1.0</td>\n",
       "      <td>0.0</td>\n",
       "    </tr>\n",
       "  </tbody>\n",
       "</table>\n",
       "<p>5 rows × 37 columns</p>\n",
       "</div>"
      ],
      "text/plain": [
       "   Year_Factor  State_Factor building_class  facility_type  floor_area  \\\n",
       "0            1             0     Commercial             12     61242.0   \n",
       "1            1             0     Commercial             54    274000.0   \n",
       "2            1             0     Commercial             47    280025.0   \n",
       "3            1             0     Commercial              5     55325.0   \n",
       "4            1             0     Commercial             55     66000.0   \n",
       "\n",
       "   year_built  ELEVATION  january_min_temp  january_avg_temp  \\\n",
       "0      1942.0        2.4                36              50.5   \n",
       "1      1955.0        1.8                36              50.5   \n",
       "2      1951.0        1.8                36              50.5   \n",
       "3      1980.0        1.8                36              50.5   \n",
       "4      1985.0        2.4                36              50.5   \n",
       "\n",
       "   january_max_temp  ...  july_max_temp  august_min_temp  november_max_temp  \\\n",
       "0                68  ...             84               52                 72   \n",
       "1                68  ...             84               52                 72   \n",
       "2                68  ...             84               52                 72   \n",
       "3                68  ...             84               52                 72   \n",
       "4                68  ...             84               52                 72   \n",
       "\n",
       "   december_min_temp  days_below_10F  days_below_0F  days_above_80F  \\\n",
       "0                 36               0              0              14   \n",
       "1                 36               0              0              14   \n",
       "2                 36               0              0              14   \n",
       "3                 36               0              0              14   \n",
       "4                 36               0              0              14   \n",
       "\n",
       "     site_eui  Commercial  Residential  \n",
       "0  248.682615         1.0          0.0  \n",
       "1   26.500150         1.0          0.0  \n",
       "2   24.693619         1.0          0.0  \n",
       "3   48.406926         1.0          0.0  \n",
       "4    3.899395         1.0          0.0  \n",
       "\n",
       "[5 rows x 37 columns]"
      ]
     },
     "execution_count": 322,
     "metadata": {},
     "output_type": "execute_result"
    }
   ],
   "source": [
    "df.head()"
   ]
  },
  {
   "cell_type": "markdown",
   "id": "cf36e617-3ebf-4938-b0fa-e6c4541973c3",
   "metadata": {},
   "source": [
    "## ColumnTransformer"
   ]
  },
  {
   "cell_type": "code",
   "execution_count": 323,
   "id": "424ccabe-2f52-4626-959c-643d4e974ba8",
   "metadata": {},
   "outputs": [
    {
     "data": {
      "text/plain": [
       "array([[1., 0.],\n",
       "       [1., 0.],\n",
       "       [1., 0.],\n",
       "       ...,\n",
       "       [0., 1.],\n",
       "       [0., 1.],\n",
       "       [0., 1.]])"
      ]
     },
     "execution_count": 323,
     "metadata": {},
     "output_type": "execute_result"
    }
   ],
   "source": [
    "# Define ColumnTransformer\n",
    "preprocessor = ColumnTransformer(\n",
    "    transformers=[\n",
    "        ('cat', OneHotEncoder(), ['building_class'])           # One-hot encode building_class\n",
    "    ]\n",
    ")\n",
    "\n",
    "# Fit and transform the data\n",
    "X_transformed = preprocessor.fit_transform(df)\n",
    "\n",
    "X_transformed\n"
   ]
  },
  {
   "cell_type": "code",
   "execution_count": 324,
   "id": "605e1201",
   "metadata": {},
   "outputs": [
    {
     "data": {
      "text/plain": [
       "array(['building_class_Commercial', 'building_class_Residential'],\n",
       "      dtype=object)"
      ]
     },
     "execution_count": 324,
     "metadata": {},
     "output_type": "execute_result"
    }
   ],
   "source": [
    "# Get feature names for the OneHotEncoder columns\n",
    "ohe_feature_names = preprocessor.named_transformers_['cat'].get_feature_names_out(['building_class'])\n",
    "ohe_feature_names"
   ]
  },
  {
   "cell_type": "code",
   "execution_count": 325,
   "id": "2cb30d59-ce36-48db-aa10-56f9dc423c54",
   "metadata": {
    "scrolled": true
   },
   "outputs": [
    {
     "data": {
      "text/html": [
       "<div>\n",
       "<style scoped>\n",
       "    .dataframe tbody tr th:only-of-type {\n",
       "        vertical-align: middle;\n",
       "    }\n",
       "\n",
       "    .dataframe tbody tr th {\n",
       "        vertical-align: top;\n",
       "    }\n",
       "\n",
       "    .dataframe thead th {\n",
       "        text-align: right;\n",
       "    }\n",
       "</style>\n",
       "<table border=\"1\" class=\"dataframe\">\n",
       "  <thead>\n",
       "    <tr style=\"text-align: right;\">\n",
       "      <th></th>\n",
       "      <th>Year_Factor</th>\n",
       "      <th>State_Factor</th>\n",
       "      <th>building_class</th>\n",
       "      <th>facility_type</th>\n",
       "      <th>floor_area</th>\n",
       "      <th>year_built</th>\n",
       "      <th>ELEVATION</th>\n",
       "      <th>january_min_temp</th>\n",
       "      <th>january_avg_temp</th>\n",
       "      <th>january_max_temp</th>\n",
       "      <th>...</th>\n",
       "      <th>november_max_temp</th>\n",
       "      <th>december_min_temp</th>\n",
       "      <th>days_below_10F</th>\n",
       "      <th>days_below_0F</th>\n",
       "      <th>days_above_80F</th>\n",
       "      <th>site_eui</th>\n",
       "      <th>Commercial</th>\n",
       "      <th>Residential</th>\n",
       "      <th>building_class_Commercial</th>\n",
       "      <th>building_class_Residential</th>\n",
       "    </tr>\n",
       "  </thead>\n",
       "  <tbody>\n",
       "    <tr>\n",
       "      <th>0</th>\n",
       "      <td>1</td>\n",
       "      <td>0</td>\n",
       "      <td>Commercial</td>\n",
       "      <td>12</td>\n",
       "      <td>61242.0</td>\n",
       "      <td>1942.0</td>\n",
       "      <td>2.4</td>\n",
       "      <td>36</td>\n",
       "      <td>50.5</td>\n",
       "      <td>68</td>\n",
       "      <td>...</td>\n",
       "      <td>72</td>\n",
       "      <td>36</td>\n",
       "      <td>0</td>\n",
       "      <td>0</td>\n",
       "      <td>14</td>\n",
       "      <td>248.682615</td>\n",
       "      <td>1.0</td>\n",
       "      <td>0.0</td>\n",
       "      <td>1.0</td>\n",
       "      <td>0.0</td>\n",
       "    </tr>\n",
       "    <tr>\n",
       "      <th>1</th>\n",
       "      <td>1</td>\n",
       "      <td>0</td>\n",
       "      <td>Commercial</td>\n",
       "      <td>54</td>\n",
       "      <td>274000.0</td>\n",
       "      <td>1955.0</td>\n",
       "      <td>1.8</td>\n",
       "      <td>36</td>\n",
       "      <td>50.5</td>\n",
       "      <td>68</td>\n",
       "      <td>...</td>\n",
       "      <td>72</td>\n",
       "      <td>36</td>\n",
       "      <td>0</td>\n",
       "      <td>0</td>\n",
       "      <td>14</td>\n",
       "      <td>26.500150</td>\n",
       "      <td>1.0</td>\n",
       "      <td>0.0</td>\n",
       "      <td>1.0</td>\n",
       "      <td>0.0</td>\n",
       "    </tr>\n",
       "    <tr>\n",
       "      <th>2</th>\n",
       "      <td>1</td>\n",
       "      <td>0</td>\n",
       "      <td>Commercial</td>\n",
       "      <td>47</td>\n",
       "      <td>280025.0</td>\n",
       "      <td>1951.0</td>\n",
       "      <td>1.8</td>\n",
       "      <td>36</td>\n",
       "      <td>50.5</td>\n",
       "      <td>68</td>\n",
       "      <td>...</td>\n",
       "      <td>72</td>\n",
       "      <td>36</td>\n",
       "      <td>0</td>\n",
       "      <td>0</td>\n",
       "      <td>14</td>\n",
       "      <td>24.693619</td>\n",
       "      <td>1.0</td>\n",
       "      <td>0.0</td>\n",
       "      <td>1.0</td>\n",
       "      <td>0.0</td>\n",
       "    </tr>\n",
       "    <tr>\n",
       "      <th>3</th>\n",
       "      <td>1</td>\n",
       "      <td>0</td>\n",
       "      <td>Commercial</td>\n",
       "      <td>5</td>\n",
       "      <td>55325.0</td>\n",
       "      <td>1980.0</td>\n",
       "      <td>1.8</td>\n",
       "      <td>36</td>\n",
       "      <td>50.5</td>\n",
       "      <td>68</td>\n",
       "      <td>...</td>\n",
       "      <td>72</td>\n",
       "      <td>36</td>\n",
       "      <td>0</td>\n",
       "      <td>0</td>\n",
       "      <td>14</td>\n",
       "      <td>48.406926</td>\n",
       "      <td>1.0</td>\n",
       "      <td>0.0</td>\n",
       "      <td>1.0</td>\n",
       "      <td>0.0</td>\n",
       "    </tr>\n",
       "    <tr>\n",
       "      <th>4</th>\n",
       "      <td>1</td>\n",
       "      <td>0</td>\n",
       "      <td>Commercial</td>\n",
       "      <td>55</td>\n",
       "      <td>66000.0</td>\n",
       "      <td>1985.0</td>\n",
       "      <td>2.4</td>\n",
       "      <td>36</td>\n",
       "      <td>50.5</td>\n",
       "      <td>68</td>\n",
       "      <td>...</td>\n",
       "      <td>72</td>\n",
       "      <td>36</td>\n",
       "      <td>0</td>\n",
       "      <td>0</td>\n",
       "      <td>14</td>\n",
       "      <td>3.899395</td>\n",
       "      <td>1.0</td>\n",
       "      <td>0.0</td>\n",
       "      <td>1.0</td>\n",
       "      <td>0.0</td>\n",
       "    </tr>\n",
       "  </tbody>\n",
       "</table>\n",
       "<p>5 rows × 39 columns</p>\n",
       "</div>"
      ],
      "text/plain": [
       "   Year_Factor  State_Factor building_class  facility_type  floor_area  \\\n",
       "0            1             0     Commercial             12     61242.0   \n",
       "1            1             0     Commercial             54    274000.0   \n",
       "2            1             0     Commercial             47    280025.0   \n",
       "3            1             0     Commercial              5     55325.0   \n",
       "4            1             0     Commercial             55     66000.0   \n",
       "\n",
       "   year_built  ELEVATION  january_min_temp  january_avg_temp  \\\n",
       "0      1942.0        2.4                36              50.5   \n",
       "1      1955.0        1.8                36              50.5   \n",
       "2      1951.0        1.8                36              50.5   \n",
       "3      1980.0        1.8                36              50.5   \n",
       "4      1985.0        2.4                36              50.5   \n",
       "\n",
       "   january_max_temp  ...  november_max_temp  december_min_temp  \\\n",
       "0                68  ...                 72                 36   \n",
       "1                68  ...                 72                 36   \n",
       "2                68  ...                 72                 36   \n",
       "3                68  ...                 72                 36   \n",
       "4                68  ...                 72                 36   \n",
       "\n",
       "   days_below_10F  days_below_0F  days_above_80F    site_eui  Commercial  \\\n",
       "0               0              0              14  248.682615         1.0   \n",
       "1               0              0              14   26.500150         1.0   \n",
       "2               0              0              14   24.693619         1.0   \n",
       "3               0              0              14   48.406926         1.0   \n",
       "4               0              0              14    3.899395         1.0   \n",
       "\n",
       "   Residential  building_class_Commercial  building_class_Residential  \n",
       "0          0.0                        1.0                         0.0  \n",
       "1          0.0                        1.0                         0.0  \n",
       "2          0.0                        1.0                         0.0  \n",
       "3          0.0                        1.0                         0.0  \n",
       "4          0.0                        1.0                         0.0  \n",
       "\n",
       "[5 rows x 39 columns]"
      ]
     },
     "execution_count": 325,
     "metadata": {},
     "output_type": "execute_result"
    }
   ],
   "source": [
    "for index , col in enumerate(ohe_feature_names) :\n",
    "    df[col]=X_transformed[:,index]\n",
    "df.head()"
   ]
  },
  {
   "cell_type": "code",
   "execution_count": 334,
   "id": "d1080229-971c-425a-95a9-01116919e2a4",
   "metadata": {},
   "outputs": [],
   "source": [
    "df.drop(['building_class'],axis =1,inplace = True)"
   ]
  },
  {
   "cell_type": "code",
   "execution_count": null,
   "id": "802e99a6-45ef-4a7f-850a-8ec52acb52e4",
   "metadata": {},
   "outputs": [],
   "source": []
  },
  {
   "cell_type": "code",
   "execution_count": 335,
   "id": "ed2284ca",
   "metadata": {},
   "outputs": [],
   "source": [
    "y=df['State_Factor']"
   ]
  },
  {
   "cell_type": "code",
   "execution_count": 336,
   "id": "28df82d5",
   "metadata": {},
   "outputs": [
    {
     "data": {
      "text/plain": [
       "0    0\n",
       "1    0\n",
       "2    0\n",
       "3    0\n",
       "4    0\n",
       "Name: State_Factor, dtype: int64"
      ]
     },
     "execution_count": 336,
     "metadata": {},
     "output_type": "execute_result"
    }
   ],
   "source": [
    "y.head()"
   ]
  },
  {
   "cell_type": "code",
   "execution_count": 337,
   "id": "4fb73e36",
   "metadata": {},
   "outputs": [],
   "source": [
    "X=df.drop(['State_Factor'],axis=1)"
   ]
  },
  {
   "cell_type": "code",
   "execution_count": 338,
   "id": "06a42416",
   "metadata": {},
   "outputs": [
    {
     "data": {
      "text/html": [
       "<div>\n",
       "<style scoped>\n",
       "    .dataframe tbody tr th:only-of-type {\n",
       "        vertical-align: middle;\n",
       "    }\n",
       "\n",
       "    .dataframe tbody tr th {\n",
       "        vertical-align: top;\n",
       "    }\n",
       "\n",
       "    .dataframe thead th {\n",
       "        text-align: right;\n",
       "    }\n",
       "</style>\n",
       "<table border=\"1\" class=\"dataframe\">\n",
       "  <thead>\n",
       "    <tr style=\"text-align: right;\">\n",
       "      <th></th>\n",
       "      <th>Year_Factor</th>\n",
       "      <th>facility_type</th>\n",
       "      <th>floor_area</th>\n",
       "      <th>year_built</th>\n",
       "      <th>ELEVATION</th>\n",
       "      <th>january_min_temp</th>\n",
       "      <th>january_avg_temp</th>\n",
       "      <th>january_max_temp</th>\n",
       "      <th>february_min_temp</th>\n",
       "      <th>february_avg_temp</th>\n",
       "      <th>...</th>\n",
       "      <th>november_max_temp</th>\n",
       "      <th>december_min_temp</th>\n",
       "      <th>days_below_10F</th>\n",
       "      <th>days_below_0F</th>\n",
       "      <th>days_above_80F</th>\n",
       "      <th>site_eui</th>\n",
       "      <th>Commercial</th>\n",
       "      <th>Residential</th>\n",
       "      <th>building_class_Commercial</th>\n",
       "      <th>building_class_Residential</th>\n",
       "    </tr>\n",
       "  </thead>\n",
       "  <tbody>\n",
       "    <tr>\n",
       "      <th>0</th>\n",
       "      <td>1</td>\n",
       "      <td>12</td>\n",
       "      <td>61242.0</td>\n",
       "      <td>1942.0</td>\n",
       "      <td>2.4</td>\n",
       "      <td>36</td>\n",
       "      <td>50.5</td>\n",
       "      <td>68</td>\n",
       "      <td>35</td>\n",
       "      <td>50.589286</td>\n",
       "      <td>...</td>\n",
       "      <td>72</td>\n",
       "      <td>36</td>\n",
       "      <td>0</td>\n",
       "      <td>0</td>\n",
       "      <td>14</td>\n",
       "      <td>248.682615</td>\n",
       "      <td>1.0</td>\n",
       "      <td>0.0</td>\n",
       "      <td>1.0</td>\n",
       "      <td>0.0</td>\n",
       "    </tr>\n",
       "    <tr>\n",
       "      <th>1</th>\n",
       "      <td>1</td>\n",
       "      <td>54</td>\n",
       "      <td>274000.0</td>\n",
       "      <td>1955.0</td>\n",
       "      <td>1.8</td>\n",
       "      <td>36</td>\n",
       "      <td>50.5</td>\n",
       "      <td>68</td>\n",
       "      <td>35</td>\n",
       "      <td>50.589286</td>\n",
       "      <td>...</td>\n",
       "      <td>72</td>\n",
       "      <td>36</td>\n",
       "      <td>0</td>\n",
       "      <td>0</td>\n",
       "      <td>14</td>\n",
       "      <td>26.500150</td>\n",
       "      <td>1.0</td>\n",
       "      <td>0.0</td>\n",
       "      <td>1.0</td>\n",
       "      <td>0.0</td>\n",
       "    </tr>\n",
       "    <tr>\n",
       "      <th>2</th>\n",
       "      <td>1</td>\n",
       "      <td>47</td>\n",
       "      <td>280025.0</td>\n",
       "      <td>1951.0</td>\n",
       "      <td>1.8</td>\n",
       "      <td>36</td>\n",
       "      <td>50.5</td>\n",
       "      <td>68</td>\n",
       "      <td>35</td>\n",
       "      <td>50.589286</td>\n",
       "      <td>...</td>\n",
       "      <td>72</td>\n",
       "      <td>36</td>\n",
       "      <td>0</td>\n",
       "      <td>0</td>\n",
       "      <td>14</td>\n",
       "      <td>24.693619</td>\n",
       "      <td>1.0</td>\n",
       "      <td>0.0</td>\n",
       "      <td>1.0</td>\n",
       "      <td>0.0</td>\n",
       "    </tr>\n",
       "    <tr>\n",
       "      <th>3</th>\n",
       "      <td>1</td>\n",
       "      <td>5</td>\n",
       "      <td>55325.0</td>\n",
       "      <td>1980.0</td>\n",
       "      <td>1.8</td>\n",
       "      <td>36</td>\n",
       "      <td>50.5</td>\n",
       "      <td>68</td>\n",
       "      <td>35</td>\n",
       "      <td>50.589286</td>\n",
       "      <td>...</td>\n",
       "      <td>72</td>\n",
       "      <td>36</td>\n",
       "      <td>0</td>\n",
       "      <td>0</td>\n",
       "      <td>14</td>\n",
       "      <td>48.406926</td>\n",
       "      <td>1.0</td>\n",
       "      <td>0.0</td>\n",
       "      <td>1.0</td>\n",
       "      <td>0.0</td>\n",
       "    </tr>\n",
       "    <tr>\n",
       "      <th>4</th>\n",
       "      <td>1</td>\n",
       "      <td>55</td>\n",
       "      <td>66000.0</td>\n",
       "      <td>1985.0</td>\n",
       "      <td>2.4</td>\n",
       "      <td>36</td>\n",
       "      <td>50.5</td>\n",
       "      <td>68</td>\n",
       "      <td>35</td>\n",
       "      <td>50.589286</td>\n",
       "      <td>...</td>\n",
       "      <td>72</td>\n",
       "      <td>36</td>\n",
       "      <td>0</td>\n",
       "      <td>0</td>\n",
       "      <td>14</td>\n",
       "      <td>3.899395</td>\n",
       "      <td>1.0</td>\n",
       "      <td>0.0</td>\n",
       "      <td>1.0</td>\n",
       "      <td>0.0</td>\n",
       "    </tr>\n",
       "  </tbody>\n",
       "</table>\n",
       "<p>5 rows × 37 columns</p>\n",
       "</div>"
      ],
      "text/plain": [
       "   Year_Factor  facility_type  floor_area  year_built  ELEVATION  \\\n",
       "0            1             12     61242.0      1942.0        2.4   \n",
       "1            1             54    274000.0      1955.0        1.8   \n",
       "2            1             47    280025.0      1951.0        1.8   \n",
       "3            1              5     55325.0      1980.0        1.8   \n",
       "4            1             55     66000.0      1985.0        2.4   \n",
       "\n",
       "   january_min_temp  january_avg_temp  january_max_temp  february_min_temp  \\\n",
       "0                36              50.5                68                 35   \n",
       "1                36              50.5                68                 35   \n",
       "2                36              50.5                68                 35   \n",
       "3                36              50.5                68                 35   \n",
       "4                36              50.5                68                 35   \n",
       "\n",
       "   february_avg_temp  ...  november_max_temp  december_min_temp  \\\n",
       "0          50.589286  ...                 72                 36   \n",
       "1          50.589286  ...                 72                 36   \n",
       "2          50.589286  ...                 72                 36   \n",
       "3          50.589286  ...                 72                 36   \n",
       "4          50.589286  ...                 72                 36   \n",
       "\n",
       "   days_below_10F  days_below_0F  days_above_80F    site_eui  Commercial  \\\n",
       "0               0              0              14  248.682615         1.0   \n",
       "1               0              0              14   26.500150         1.0   \n",
       "2               0              0              14   24.693619         1.0   \n",
       "3               0              0              14   48.406926         1.0   \n",
       "4               0              0              14    3.899395         1.0   \n",
       "\n",
       "   Residential  building_class_Commercial  building_class_Residential  \n",
       "0          0.0                        1.0                         0.0  \n",
       "1          0.0                        1.0                         0.0  \n",
       "2          0.0                        1.0                         0.0  \n",
       "3          0.0                        1.0                         0.0  \n",
       "4          0.0                        1.0                         0.0  \n",
       "\n",
       "[5 rows x 37 columns]"
      ]
     },
     "execution_count": 338,
     "metadata": {},
     "output_type": "execute_result"
    }
   ],
   "source": [
    "X.head()"
   ]
  },
  {
   "cell_type": "code",
   "execution_count": null,
   "id": "71ab3d40",
   "metadata": {},
   "outputs": [],
   "source": []
  },
  {
   "cell_type": "code",
   "execution_count": 339,
   "id": "6cc5a54f",
   "metadata": {},
   "outputs": [
    {
     "name": "stdout",
     "output_type": "stream",
     "text": [
      "<class 'pandas.core.frame.DataFrame'>\n",
      "RangeIndex: 31081 entries, 0 to 31080\n",
      "Data columns (total 37 columns):\n",
      " #   Column                      Non-Null Count  Dtype  \n",
      "---  ------                      --------------  -----  \n",
      " 0   Year_Factor                 31081 non-null  int64  \n",
      " 1   facility_type               31081 non-null  int32  \n",
      " 2   floor_area                  31081 non-null  float64\n",
      " 3   year_built                  31081 non-null  float64\n",
      " 4   ELEVATION                   31081 non-null  float64\n",
      " 5   january_min_temp            31081 non-null  int64  \n",
      " 6   january_avg_temp            31081 non-null  float64\n",
      " 7   january_max_temp            31081 non-null  int64  \n",
      " 8   february_min_temp           31081 non-null  int64  \n",
      " 9   february_avg_temp           31081 non-null  float64\n",
      " 10  february_max_temp           31081 non-null  int64  \n",
      " 11  march_min_temp              31081 non-null  int64  \n",
      " 12  march_avg_temp              31081 non-null  float64\n",
      " 13  march_max_temp              31081 non-null  int64  \n",
      " 14  april_min_temp              31081 non-null  int64  \n",
      " 15  april_avg_temp              31081 non-null  float64\n",
      " 16  april_max_temp              31081 non-null  int64  \n",
      " 17  may_min_temp                31081 non-null  int64  \n",
      " 18  may_avg_temp                31081 non-null  float64\n",
      " 19  may_max_temp                31081 non-null  int64  \n",
      " 20  june_min_temp               31081 non-null  int64  \n",
      " 21  june_avg_temp               31081 non-null  float64\n",
      " 22  june_max_temp               31081 non-null  int64  \n",
      " 23  july_min_temp               31081 non-null  int64  \n",
      " 24  july_avg_temp               31081 non-null  float64\n",
      " 25  july_max_temp               31081 non-null  int64  \n",
      " 26  august_min_temp             31081 non-null  int64  \n",
      " 27  november_max_temp           31081 non-null  int64  \n",
      " 28  december_min_temp           31081 non-null  int64  \n",
      " 29  days_below_10F              31081 non-null  int64  \n",
      " 30  days_below_0F               31081 non-null  int64  \n",
      " 31  days_above_80F              31081 non-null  int64  \n",
      " 32  site_eui                    31081 non-null  float64\n",
      " 33  Commercial                  31081 non-null  float64\n",
      " 34  Residential                 31081 non-null  float64\n",
      " 35  building_class_Commercial   31081 non-null  float64\n",
      " 36  building_class_Residential  31081 non-null  float64\n",
      "dtypes: float64(15), int32(1), int64(21)\n",
      "memory usage: 8.7 MB\n"
     ]
    }
   ],
   "source": [
    "X.info()"
   ]
  },
  {
   "cell_type": "code",
   "execution_count": null,
   "id": "f134097e",
   "metadata": {},
   "outputs": [],
   "source": []
  },
  {
   "cell_type": "markdown",
   "id": "513c6007",
   "metadata": {},
   "source": [
    "# Data Scaling  ( Normalization)"
   ]
  },
  {
   "cell_type": "markdown",
   "id": "66439f62",
   "metadata": {},
   "source": [
    "## MinmaxScaler"
   ]
  },
  {
   "cell_type": "code",
   "execution_count": 340,
   "id": "0af2d1c5",
   "metadata": {},
   "outputs": [],
   "source": [
    "# MinMaxScaler\n",
    "from sklearn.preprocessing import MinMaxScaler\n",
    "my_scaler = MinMaxScaler(feature_range=(0,1))\n",
    "X_scaler_minMax = my_scaler.fit_transform(X)"
   ]
  },
  {
   "cell_type": "code",
   "execution_count": 341,
   "id": "5f4c6d94",
   "metadata": {},
   "outputs": [
    {
     "data": {
      "text/plain": [
       "(0.0, 1.0000000000000002)"
      ]
     },
     "execution_count": 341,
     "metadata": {},
     "output_type": "execute_result"
    }
   ],
   "source": [
    "X_scaler_minMax.min(),X_scaler_minMax.max()"
   ]
  },
  {
   "cell_type": "markdown",
   "id": "fbac171d",
   "metadata": {},
   "source": [
    "## StandardScaler"
   ]
  },
  {
   "cell_type": "code",
   "execution_count": 342,
   "id": "c3167e98",
   "metadata": {},
   "outputs": [],
   "source": [
    "# Standardization\n",
    "from sklearn.preprocessing import StandardScaler\n",
    "my_scaler = StandardScaler()\n",
    "X_scaler_SD = my_scaler.fit_transform(X)"
   ]
  },
  {
   "cell_type": "code",
   "execution_count": 343,
   "id": "00fbf1f9",
   "metadata": {},
   "outputs": [
    {
     "data": {
      "text/plain": [
       "(-48.040129536031344, 23.37089752761405)"
      ]
     },
     "execution_count": 343,
     "metadata": {},
     "output_type": "execute_result"
    }
   ],
   "source": [
    "X_scaler_SD.min(),X_scaler_SD.max()"
   ]
  },
  {
   "cell_type": "markdown",
   "id": "6bd0cee4-2ed2-4295-8295-73f2070ba9d6",
   "metadata": {},
   "source": [
    "## RobustScaler"
   ]
  },
  {
   "cell_type": "code",
   "execution_count": 344,
   "id": "8a56c7f7-48e7-491b-bb53-467a1bc2612e",
   "metadata": {},
   "outputs": [],
   "source": [
    "from sklearn.preprocessing import RobustScaler\n",
    "\n",
    "# Initialize RobustScaler\n",
    "scaler = RobustScaler()\n",
    "\n",
    "# Fit and transform the data\n",
    "X_scaler_RS = scaler.fit_transform(X)\n"
   ]
  },
  {
   "cell_type": "code",
   "execution_count": 345,
   "id": "f3413f3b-4718-418b-8448-5bdd5551f5ab",
   "metadata": {},
   "outputs": [
    {
     "data": {
      "text/plain": [
       "(-39.836052307980744, 59.0)"
      ]
     },
     "execution_count": 345,
     "metadata": {},
     "output_type": "execute_result"
    }
   ],
   "source": [
    "X_scaler_RS.min(),X_scaler_RS.max()"
   ]
  },
  {
   "cell_type": "markdown",
   "id": "cdf07608",
   "metadata": {},
   "source": [
    "# Spliting Data \n",
    "### train test split"
   ]
  },
  {
   "cell_type": "code",
   "execution_count": 346,
   "id": "e159c4c9",
   "metadata": {},
   "outputs": [],
   "source": [
    "# Split into Input and Output Elements\n",
    "from sklearn.model_selection import train_test_split\n",
    "X_train, X_test, y_train, y_test = train_test_split(X,y,\n",
    "                                   test_size= 0.20, random_state=100, stratify=y)"
   ]
  },
  {
   "cell_type": "code",
   "execution_count": 347,
   "id": "7320852e",
   "metadata": {},
   "outputs": [
    {
     "name": "stdout",
     "output_type": "stream",
     "text": [
      "X_train =  (24864, 37)  y_train =  (24864,)\n",
      "X_test  =  (6217, 37)  y_test  =  (6217,)\n"
     ]
    }
   ],
   "source": [
    "print(\"X_train = \",X_train.shape ,\" y_train = \", y_train.shape)\n",
    "print(\"X_test  = \",X_test.shape ,\" y_test  = \", y_test.shape)"
   ]
  },
  {
   "cell_type": "code",
   "execution_count": null,
   "id": "4552f4ba-4794-4104-bec0-45a9626230d8",
   "metadata": {},
   "outputs": [],
   "source": []
  },
  {
   "cell_type": "code",
   "execution_count": 348,
   "id": "f41041db-3684-4386-b290-9e1f71c29827",
   "metadata": {},
   "outputs": [
    {
     "data": {
      "text/plain": [
       "pandas.core.frame.DataFrame"
      ]
     },
     "execution_count": 348,
     "metadata": {},
     "output_type": "execute_result"
    }
   ],
   "source": [
    "type(X)"
   ]
  },
  {
   "cell_type": "code",
   "execution_count": 349,
   "id": "2b1ca5da-d78b-4b87-b3ab-a11edac25e3a",
   "metadata": {},
   "outputs": [
    {
     "data": {
      "text/plain": [
       "Year_Factor                       1.000000\n",
       "facility_type                    12.000000\n",
       "floor_area                    61242.000000\n",
       "year_built                     1942.000000\n",
       "ELEVATION                         2.400000\n",
       "january_min_temp                 36.000000\n",
       "january_avg_temp                 50.500000\n",
       "january_max_temp                 68.000000\n",
       "february_min_temp                35.000000\n",
       "february_avg_temp                50.589286\n",
       "february_max_temp                73.000000\n",
       "march_min_temp                   40.000000\n",
       "march_avg_temp                   53.693548\n",
       "march_max_temp                   80.000000\n",
       "april_min_temp                   41.000000\n",
       "april_avg_temp                   55.500000\n",
       "april_max_temp                   78.000000\n",
       "may_min_temp                     46.000000\n",
       "may_avg_temp                     56.854839\n",
       "may_max_temp                     84.000000\n",
       "june_min_temp                    50.000000\n",
       "june_avg_temp                    60.500000\n",
       "june_max_temp                    90.000000\n",
       "july_min_temp                    52.000000\n",
       "july_avg_temp                    62.725806\n",
       "july_max_temp                    84.000000\n",
       "august_min_temp                  52.000000\n",
       "november_max_temp                72.000000\n",
       "december_min_temp                36.000000\n",
       "days_below_10F                    0.000000\n",
       "days_below_0F                     0.000000\n",
       "days_above_80F                   14.000000\n",
       "site_eui                        248.682615\n",
       "Commercial                        1.000000\n",
       "Residential                       0.000000\n",
       "building_class_Commercial         1.000000\n",
       "building_class_Residential        0.000000\n",
       "Name: 0, dtype: float64"
      ]
     },
     "execution_count": 349,
     "metadata": {},
     "output_type": "execute_result"
    }
   ],
   "source": [
    "X.loc[0]"
   ]
  },
  {
   "cell_type": "markdown",
   "id": "d48c141a",
   "metadata": {},
   "source": [
    "# KFold Spliting"
   ]
  },
  {
   "cell_type": "code",
   "execution_count": 350,
   "id": "dad27fe0",
   "metadata": {},
   "outputs": [
    {
     "name": "stdout",
     "output_type": "stream",
     "text": [
      "[ 7771  7772  7773 ... 31078 31079 31080]\n",
      "[   0    1    2 ... 7768 7769 7770]\n"
     ]
    }
   ],
   "source": [
    "from sklearn.model_selection import KFold\n",
    "\n",
    "kf = KFold(n_splits=4)\n",
    "\n",
    "\n",
    "for i, (train_index, test_index) in enumerate(kf.split(X)):\n",
    "    #print('Train index')\n",
    "    print(train_index)\n",
    "    #X_train = X.loc[train_index]\n",
    "    #y_train = y.loc[train_index]\n",
    "    \n",
    "    #print('Test index')\n",
    "    print(test_index)\n",
    "    #X_test = X.loc[test_index]\n",
    "    #y_test = y.loc[test_index]\n",
    "    #print(X_train.shape,y_train.shape)\n",
    "    #print(X_test.shape,y_test.shape)\n",
    "    break"
   ]
  },
  {
   "cell_type": "code",
   "execution_count": null,
   "id": "5de457ff-2de3-4e42-b320-3ea369d4433d",
   "metadata": {},
   "outputs": [],
   "source": []
  },
  {
   "cell_type": "code",
   "execution_count": null,
   "id": "ef6bb660-07b3-4313-a4b5-ed201d2e8846",
   "metadata": {},
   "outputs": [],
   "source": []
  },
  {
   "cell_type": "code",
   "execution_count": null,
   "id": "c541a1fb-4d52-405b-b01e-a3f88abc5a34",
   "metadata": {},
   "outputs": [],
   "source": []
  }
 ],
 "metadata": {
  "kernelspec": {
   "display_name": "Python 3 (ipykernel)",
   "language": "python",
   "name": "python3"
  },
  "language_info": {
   "codemirror_mode": {
    "name": "ipython",
    "version": 3
   },
   "file_extension": ".py",
   "mimetype": "text/x-python",
   "name": "python",
   "nbconvert_exporter": "python",
   "pygments_lexer": "ipython3",
   "version": "3.11.5"
  }
 },
 "nbformat": 4,
 "nbformat_minor": 5
}
